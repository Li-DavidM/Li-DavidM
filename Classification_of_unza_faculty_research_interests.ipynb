{
  "nbformat": 4,
  "nbformat_minor": 0,
  "metadata": {
    "colab": {
      "provenance": [],
      "include_colab_link": true
    },
    "kernelspec": {
      "name": "python3",
      "display_name": "Python 3"
    },
    "language_info": {
      "name": "python"
    }
  },
  "cells": [
    {
      "cell_type": "markdown",
      "metadata": {
        "id": "view-in-github",
        "colab_type": "text"
      },
      "source": [
        "<a href=\"https://colab.research.google.com/github/Li-DavidM/Li-DavidM/blob/main/Classification_of_unza_faculty_research_interests.ipynb\" target=\"_parent\"><img src=\"https://colab.research.google.com/assets/colab-badge.svg\" alt=\"Open In Colab\"/></a>"
      ]
    },
    {
      "cell_type": "markdown",
      "source": [
        "#1. Business Understanding\n",
        "##Problem Statement\n",
        "The University of Zambia (UNZA) produces numerous research publications annually across diverse faculties. However, these publications are not systematically classified according to Zambia’s Vision 2030 sector categories, making it challenging for policymakers, funding bodies, and administrators to assess how research aligns with national development priorities. Manual classification is time-consuming, inconsistent, and inefficient. There is a need for an automated system to classify research outputs into Vision 2030 sectors using only publication titles."
      ],
      "metadata": {
        "id": "D5sw1X4Fu97P"
      }
    },
    {
      "cell_type": "markdown",
      "source": [
        "##Business Objectives\n",
        "The objective is to:\n",
        "* Automate the classification of UNZA faculty research publications into Vision 2030 sector categories.\n",
        "* Improve accessibility and searchability of research outputs by sector.\n",
        "* Enable faster and more consistent reporting for stakeholders.\n",
        "\n",
        "Success in real-world terms means stakeholders can easily retrieve research outputs relevant to specific Vision 2030 sectors making the classification process faster, more consistent, and requires minimal\n"
      ],
      "metadata": {
        "id": "XSZU0rUuvLf6"
      }
    }
  ]
}