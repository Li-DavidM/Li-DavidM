{
  "nbformat": 4,
  "nbformat_minor": 0,
  "metadata": {
    "colab": {
      "provenance": [],
      "toc_visible": true,
      "include_colab_link": true
    },
    "kernelspec": {
      "name": "python3",
      "display_name": "Python 3"
    },
    "language_info": {
      "name": "python"
    }
  },
  "cells": [
    {
      "cell_type": "markdown",
      "metadata": {
        "id": "view-in-github",
        "colab_type": "text"
      },
      "source": [
        "<a href=\"https://colab.research.google.com/github/Li-DavidM/Li-DavidM/blob/main/Classification_of_unza_faculty_research_interests.ipynb\" target=\"_parent\"><img src=\"https://colab.research.google.com/assets/colab-badge.svg\" alt=\"Open In Colab\"/></a>"
      ]
    },
    {
      "cell_type": "markdown",
      "source": [
        "#1. Business Understanding\n",
        "##Problem Statement\n",
        "The University of Zambia (UNZA) produces numerous research publications annually across diverse faculties. However, these publications are not systematically classified according to Zambia’s Vision 2030 sector categories, making it challenging for policymakers, funding bodies, and administrators to assess how research aligns with national development priorities. Manual classification is time-consuming, inconsistent, and inefficient. There is a need for an automated system to classify research outputs into Vision 2030 sectors using only publication titles."
      ],
      "metadata": {
        "id": "D5sw1X4Fu97P"
      }
    },
    {
      "cell_type": "markdown",
      "source": [
        "##Business Objectives\n",
        "The objective is to:\n",
        "* Automate the classification of UNZA faculty research publications into Vision 2030 sector categories.\n",
        "* Improve accessibility and searchability of research outputs by sector.\n",
        "* Enable faster and more consistent reporting for stakeholders.\n",
        "\n",
        "Success in real-world terms means stakeholders can easily retrieve research outputs relevant to specific Vision 2030 sectors making the classification process faster, more consistent, and requires minimal\n",
        "\n",
        "##Data Mining Goals\n",
        "* We will collect, understand the data of UNZA faculty member’s publications\n",
        "* We prepare the training and testing data which includes include cleaning, transforming, integrating, and formatting data for modeling.\n",
        "* We will build a supervised machine learning classification model that:\n",
        " * Takes a publication title as input.\n",
        " *\tPredicts the most likely Vision 2030 sector category (e.g., Agriculture, Energy, Health, Education, etc.).\n",
        " * Is trained and evaluated using labeled publication title data from UNZA faculty research.\n",
        "* We will assesses the quality and effectiveness of the model ensuring the results achieve the business objectives\n",
        "\n",
        "##Initial Project Success Criteria\n",
        "* **Model Performance**: The classification model should achieve at least 80% accuracy on unseen test data.\n",
        "* **Usability**: The system should output results in a clear and interpretable format for non-technical users.\n",
        "* **Practical Value**: The automated classification should reduce the manual categorization time by at least 50% compared to the current process.\n",
        "\n",
        "\n",
        "\n"
      ],
      "metadata": {
        "id": "XSZU0rUuvLf6"
      }
    },
    {
      "cell_type": "code",
      "source": [],
      "metadata": {
        "id": "72OlMR1Wj1g4"
      },
      "execution_count": null,
      "outputs": []
    },
    {
      "cell_type": "markdown",
      "source": [
        "# Data Understanding"
      ],
      "metadata": {
        "id": "Rh8IZSwBkblB"
      }
    },
    {
      "cell_type": "code",
      "source": [
        "import pandas as pd"
      ],
      "metadata": {
        "id": "TYcjuy0IImGQ"
      },
      "execution_count": null,
      "outputs": []
    },
    {
      "cell_type": "code",
      "source": [
        "#Mounting to the drive so that created files are saved\n",
        "from google.colab import drive\n",
        "drive.mount('/content/drive')"
      ],
      "metadata": {
        "id": "80WMjBU2K1_u",
        "colab": {
          "base_uri": "https://localhost:8080/"
        },
        "outputId": "7e1a560d-d1d0-49d4-c61e-0760a2fe68cc"
      },
      "execution_count": null,
      "outputs": [
        {
          "output_type": "stream",
          "name": "stdout",
          "text": [
            "Drive already mounted at /content/drive; to attempt to forcibly remount, call drive.mount(\"/content/drive\", force_remount=True).\n"
          ]
        }
      ]
    },
    {
      "cell_type": "code",
      "metadata": {
        "colab": {
          "base_uri": "https://localhost:8080/"
        },
        "id": "165fac9c",
        "outputId": "6238e338-530e-49ed-a1a6-82ad02a01b41"
      },
      "source": [
        "#Navigating to the shared team project folder\n",
        "#instructions: ensure you have created a shortcut of the shared folder in the drive\n",
        "#root directory\n",
        "%cd \"/content/drive/My Drive/misc-unza25-csc4792-project_team21\""
      ],
      "execution_count": null,
      "outputs": [
        {
          "output_type": "stream",
          "name": "stdout",
          "text": [
            "/content/drive/.shortcut-targets-by-id/1rE8kSkQXl-SiU24RkWcyCi02p-dW0Y-1/misc-unza25-csc4792-project_team21\n"
          ]
        }
      ]
    },
    {
      "cell_type": "code",
      "source": [
        "!ls"
      ],
      "metadata": {
        "id": "yRZxtG3JQzhB",
        "colab": {
          "base_uri": "https://localhost:8080/"
        },
        "outputId": "3da71f09-318f-40c8-d4f4-dccc6385c239"
      },
      "execution_count": null,
      "outputs": [
        {
          "output_type": "stream",
          "name": "stdout",
          "text": [
            "Classification_of_unza_faculty_research_interests.ipynb\n",
            "unza_faculty_publications_details.csv\n"
          ]
        }
      ]
    },
    {
      "cell_type": "code",
      "source": [
        "pub_details = pd.read_csv('unza_faculty_publications_details.csv')"
      ],
      "metadata": {
        "id": "s41OcZIaQz9g"
      },
      "execution_count": null,
      "outputs": []
    },
    {
      "cell_type": "code",
      "source": [
        "pub_details.head()"
      ],
      "metadata": {
        "colab": {
          "base_uri": "https://localhost:8080/",
          "height": 556
        },
        "id": "A3lxTlUxjwDJ",
        "outputId": "48874182-3589-44fe-f207-f66ce76f5550"
      },
      "execution_count": null,
      "outputs": [
        {
          "output_type": "execute_result",
          "data": {
            "text/plain": [
              "                                               title  \\\n",
              "0  Zambezi voice: A multilingual speech corpus fo...   \n",
              "1  BembaSpeech: A speech recognition corpus for t...   \n",
              "2  Big-c: a multimodal multi-purpose dataset for ...   \n",
              "3  Evaluating DICOM Compliance for Medical Images...   \n",
              "4  Implementation of the Sustainable Development ...   \n",
              "\n",
              "                                   authors    year  \\\n",
              "0  C Sikasote, K Siaminwe, S Mwape, B Zulu  2023.0   \n",
              "1             C Sikasote, A Anastasopoulos  2021.0   \n",
              "2          C Sikasote, E Mukonde, MMI Alam  2023.0   \n",
              "3         E Chileshe, MC Sikasote, L Phiri     NaN   \n",
              "4        J Lubbungu, C Pailet, K Shameenda     NaN   \n",
              "\n",
              "                             venue  \\\n",
              "0           arXiv preprint arXiv …   \n",
              "1  arXiv preprint arXiv:2102.04889   \n",
              "2           arXiv preprint arXiv …   \n",
              "3                              NaN   \n",
              "4       … OF PUBLIC UNIVERSITIES …   \n",
              "\n",
              "                                            abstract  num_citations  \\\n",
              "0  for all the seven official native languages of...              5   \n",
              "1  impendwa ya bantu ba mu Zambia ukufika cipendo...             20   \n",
              "2  We present BIG-C (Bemba Image Grounded Convers...              6   \n",
              "3  This paper focuses on a detailed examination o...              0   \n",
              "4  of entrepreneurial universities in the world, ...              0   \n",
              "\n",
              "                                      url_scholarbib  \n",
              "0                   https://arxiv.org/abs/2306.04428  \n",
              "1                   https://arxiv.org/abs/2102.04889  \n",
              "2                   https://arxiv.org/abs/2305.17202  \n",
              "3  https://datalab.unza.zm/sites/default/files/20...  \n",
              "4  https://www.zapuc.edu.zm/docs/2018_ZAPUC_Confe...  "
            ],
            "text/html": [
              "\n",
              "  <div id=\"df-0bb86530-c932-4ebf-a59e-9954e9653326\" class=\"colab-df-container\">\n",
              "    <div>\n",
              "<style scoped>\n",
              "    .dataframe tbody tr th:only-of-type {\n",
              "        vertical-align: middle;\n",
              "    }\n",
              "\n",
              "    .dataframe tbody tr th {\n",
              "        vertical-align: top;\n",
              "    }\n",
              "\n",
              "    .dataframe thead th {\n",
              "        text-align: right;\n",
              "    }\n",
              "</style>\n",
              "<table border=\"1\" class=\"dataframe\">\n",
              "  <thead>\n",
              "    <tr style=\"text-align: right;\">\n",
              "      <th></th>\n",
              "      <th>title</th>\n",
              "      <th>authors</th>\n",
              "      <th>year</th>\n",
              "      <th>venue</th>\n",
              "      <th>abstract</th>\n",
              "      <th>num_citations</th>\n",
              "      <th>url_scholarbib</th>\n",
              "    </tr>\n",
              "  </thead>\n",
              "  <tbody>\n",
              "    <tr>\n",
              "      <th>0</th>\n",
              "      <td>Zambezi voice: A multilingual speech corpus fo...</td>\n",
              "      <td>C Sikasote, K Siaminwe, S Mwape, B Zulu</td>\n",
              "      <td>2023.0</td>\n",
              "      <td>arXiv preprint arXiv …</td>\n",
              "      <td>for all the seven official native languages of...</td>\n",
              "      <td>5</td>\n",
              "      <td>https://arxiv.org/abs/2306.04428</td>\n",
              "    </tr>\n",
              "    <tr>\n",
              "      <th>1</th>\n",
              "      <td>BembaSpeech: A speech recognition corpus for t...</td>\n",
              "      <td>C Sikasote, A Anastasopoulos</td>\n",
              "      <td>2021.0</td>\n",
              "      <td>arXiv preprint arXiv:2102.04889</td>\n",
              "      <td>impendwa ya bantu ba mu Zambia ukufika cipendo...</td>\n",
              "      <td>20</td>\n",
              "      <td>https://arxiv.org/abs/2102.04889</td>\n",
              "    </tr>\n",
              "    <tr>\n",
              "      <th>2</th>\n",
              "      <td>Big-c: a multimodal multi-purpose dataset for ...</td>\n",
              "      <td>C Sikasote, E Mukonde, MMI Alam</td>\n",
              "      <td>2023.0</td>\n",
              "      <td>arXiv preprint arXiv …</td>\n",
              "      <td>We present BIG-C (Bemba Image Grounded Convers...</td>\n",
              "      <td>6</td>\n",
              "      <td>https://arxiv.org/abs/2305.17202</td>\n",
              "    </tr>\n",
              "    <tr>\n",
              "      <th>3</th>\n",
              "      <td>Evaluating DICOM Compliance for Medical Images...</td>\n",
              "      <td>E Chileshe, MC Sikasote, L Phiri</td>\n",
              "      <td>NaN</td>\n",
              "      <td>NaN</td>\n",
              "      <td>This paper focuses on a detailed examination o...</td>\n",
              "      <td>0</td>\n",
              "      <td>https://datalab.unza.zm/sites/default/files/20...</td>\n",
              "    </tr>\n",
              "    <tr>\n",
              "      <th>4</th>\n",
              "      <td>Implementation of the Sustainable Development ...</td>\n",
              "      <td>J Lubbungu, C Pailet, K Shameenda</td>\n",
              "      <td>NaN</td>\n",
              "      <td>… OF PUBLIC UNIVERSITIES …</td>\n",
              "      <td>of entrepreneurial universities in the world, ...</td>\n",
              "      <td>0</td>\n",
              "      <td>https://www.zapuc.edu.zm/docs/2018_ZAPUC_Confe...</td>\n",
              "    </tr>\n",
              "  </tbody>\n",
              "</table>\n",
              "</div>\n",
              "    <div class=\"colab-df-buttons\">\n",
              "\n",
              "  <div class=\"colab-df-container\">\n",
              "    <button class=\"colab-df-convert\" onclick=\"convertToInteractive('df-0bb86530-c932-4ebf-a59e-9954e9653326')\"\n",
              "            title=\"Convert this dataframe to an interactive table.\"\n",
              "            style=\"display:none;\">\n",
              "\n",
              "  <svg xmlns=\"http://www.w3.org/2000/svg\" height=\"24px\" viewBox=\"0 -960 960 960\">\n",
              "    <path d=\"M120-120v-720h720v720H120Zm60-500h600v-160H180v160Zm220 220h160v-160H400v160Zm0 220h160v-160H400v160ZM180-400h160v-160H180v160Zm440 0h160v-160H620v160ZM180-180h160v-160H180v160Zm440 0h160v-160H620v160Z\"/>\n",
              "  </svg>\n",
              "    </button>\n",
              "\n",
              "  <style>\n",
              "    .colab-df-container {\n",
              "      display:flex;\n",
              "      gap: 12px;\n",
              "    }\n",
              "\n",
              "    .colab-df-convert {\n",
              "      background-color: #E8F0FE;\n",
              "      border: none;\n",
              "      border-radius: 50%;\n",
              "      cursor: pointer;\n",
              "      display: none;\n",
              "      fill: #1967D2;\n",
              "      height: 32px;\n",
              "      padding: 0 0 0 0;\n",
              "      width: 32px;\n",
              "    }\n",
              "\n",
              "    .colab-df-convert:hover {\n",
              "      background-color: #E2EBFA;\n",
              "      box-shadow: 0px 1px 2px rgba(60, 64, 67, 0.3), 0px 1px 3px 1px rgba(60, 64, 67, 0.15);\n",
              "      fill: #174EA6;\n",
              "    }\n",
              "\n",
              "    .colab-df-buttons div {\n",
              "      margin-bottom: 4px;\n",
              "    }\n",
              "\n",
              "    [theme=dark] .colab-df-convert {\n",
              "      background-color: #3B4455;\n",
              "      fill: #D2E3FC;\n",
              "    }\n",
              "\n",
              "    [theme=dark] .colab-df-convert:hover {\n",
              "      background-color: #434B5C;\n",
              "      box-shadow: 0px 1px 3px 1px rgba(0, 0, 0, 0.15);\n",
              "      filter: drop-shadow(0px 1px 2px rgba(0, 0, 0, 0.3));\n",
              "      fill: #FFFFFF;\n",
              "    }\n",
              "  </style>\n",
              "\n",
              "    <script>\n",
              "      const buttonEl =\n",
              "        document.querySelector('#df-0bb86530-c932-4ebf-a59e-9954e9653326 button.colab-df-convert');\n",
              "      buttonEl.style.display =\n",
              "        google.colab.kernel.accessAllowed ? 'block' : 'none';\n",
              "\n",
              "      async function convertToInteractive(key) {\n",
              "        const element = document.querySelector('#df-0bb86530-c932-4ebf-a59e-9954e9653326');\n",
              "        const dataTable =\n",
              "          await google.colab.kernel.invokeFunction('convertToInteractive',\n",
              "                                                    [key], {});\n",
              "        if (!dataTable) return;\n",
              "\n",
              "        const docLinkHtml = 'Like what you see? Visit the ' +\n",
              "          '<a target=\"_blank\" href=https://colab.research.google.com/notebooks/data_table.ipynb>data table notebook</a>'\n",
              "          + ' to learn more about interactive tables.';\n",
              "        element.innerHTML = '';\n",
              "        dataTable['output_type'] = 'display_data';\n",
              "        await google.colab.output.renderOutput(dataTable, element);\n",
              "        const docLink = document.createElement('div');\n",
              "        docLink.innerHTML = docLinkHtml;\n",
              "        element.appendChild(docLink);\n",
              "      }\n",
              "    </script>\n",
              "  </div>\n",
              "\n",
              "\n",
              "    <div id=\"df-e4b5a9c7-7c3d-4373-bbc2-2927f49c94a3\">\n",
              "      <button class=\"colab-df-quickchart\" onclick=\"quickchart('df-e4b5a9c7-7c3d-4373-bbc2-2927f49c94a3')\"\n",
              "                title=\"Suggest charts\"\n",
              "                style=\"display:none;\">\n",
              "\n",
              "<svg xmlns=\"http://www.w3.org/2000/svg\" height=\"24px\"viewBox=\"0 0 24 24\"\n",
              "     width=\"24px\">\n",
              "    <g>\n",
              "        <path d=\"M19 3H5c-1.1 0-2 .9-2 2v14c0 1.1.9 2 2 2h14c1.1 0 2-.9 2-2V5c0-1.1-.9-2-2-2zM9 17H7v-7h2v7zm4 0h-2V7h2v10zm4 0h-2v-4h2v4z\"/>\n",
              "    </g>\n",
              "</svg>\n",
              "      </button>\n",
              "\n",
              "<style>\n",
              "  .colab-df-quickchart {\n",
              "      --bg-color: #E8F0FE;\n",
              "      --fill-color: #1967D2;\n",
              "      --hover-bg-color: #E2EBFA;\n",
              "      --hover-fill-color: #174EA6;\n",
              "      --disabled-fill-color: #AAA;\n",
              "      --disabled-bg-color: #DDD;\n",
              "  }\n",
              "\n",
              "  [theme=dark] .colab-df-quickchart {\n",
              "      --bg-color: #3B4455;\n",
              "      --fill-color: #D2E3FC;\n",
              "      --hover-bg-color: #434B5C;\n",
              "      --hover-fill-color: #FFFFFF;\n",
              "      --disabled-bg-color: #3B4455;\n",
              "      --disabled-fill-color: #666;\n",
              "  }\n",
              "\n",
              "  .colab-df-quickchart {\n",
              "    background-color: var(--bg-color);\n",
              "    border: none;\n",
              "    border-radius: 50%;\n",
              "    cursor: pointer;\n",
              "    display: none;\n",
              "    fill: var(--fill-color);\n",
              "    height: 32px;\n",
              "    padding: 0;\n",
              "    width: 32px;\n",
              "  }\n",
              "\n",
              "  .colab-df-quickchart:hover {\n",
              "    background-color: var(--hover-bg-color);\n",
              "    box-shadow: 0 1px 2px rgba(60, 64, 67, 0.3), 0 1px 3px 1px rgba(60, 64, 67, 0.15);\n",
              "    fill: var(--button-hover-fill-color);\n",
              "  }\n",
              "\n",
              "  .colab-df-quickchart-complete:disabled,\n",
              "  .colab-df-quickchart-complete:disabled:hover {\n",
              "    background-color: var(--disabled-bg-color);\n",
              "    fill: var(--disabled-fill-color);\n",
              "    box-shadow: none;\n",
              "  }\n",
              "\n",
              "  .colab-df-spinner {\n",
              "    border: 2px solid var(--fill-color);\n",
              "    border-color: transparent;\n",
              "    border-bottom-color: var(--fill-color);\n",
              "    animation:\n",
              "      spin 1s steps(1) infinite;\n",
              "  }\n",
              "\n",
              "  @keyframes spin {\n",
              "    0% {\n",
              "      border-color: transparent;\n",
              "      border-bottom-color: var(--fill-color);\n",
              "      border-left-color: var(--fill-color);\n",
              "    }\n",
              "    20% {\n",
              "      border-color: transparent;\n",
              "      border-left-color: var(--fill-color);\n",
              "      border-top-color: var(--fill-color);\n",
              "    }\n",
              "    30% {\n",
              "      border-color: transparent;\n",
              "      border-left-color: var(--fill-color);\n",
              "      border-top-color: var(--fill-color);\n",
              "      border-right-color: var(--fill-color);\n",
              "    }\n",
              "    40% {\n",
              "      border-color: transparent;\n",
              "      border-right-color: var(--fill-color);\n",
              "      border-top-color: var(--fill-color);\n",
              "    }\n",
              "    60% {\n",
              "      border-color: transparent;\n",
              "      border-right-color: var(--fill-color);\n",
              "    }\n",
              "    80% {\n",
              "      border-color: transparent;\n",
              "      border-right-color: var(--fill-color);\n",
              "      border-bottom-color: var(--fill-color);\n",
              "    }\n",
              "    90% {\n",
              "      border-color: transparent;\n",
              "      border-bottom-color: var(--fill-color);\n",
              "    }\n",
              "  }\n",
              "</style>\n",
              "\n",
              "      <script>\n",
              "        async function quickchart(key) {\n",
              "          const quickchartButtonEl =\n",
              "            document.querySelector('#' + key + ' button');\n",
              "          quickchartButtonEl.disabled = true;  // To prevent multiple clicks.\n",
              "          quickchartButtonEl.classList.add('colab-df-spinner');\n",
              "          try {\n",
              "            const charts = await google.colab.kernel.invokeFunction(\n",
              "                'suggestCharts', [key], {});\n",
              "          } catch (error) {\n",
              "            console.error('Error during call to suggestCharts:', error);\n",
              "          }\n",
              "          quickchartButtonEl.classList.remove('colab-df-spinner');\n",
              "          quickchartButtonEl.classList.add('colab-df-quickchart-complete');\n",
              "        }\n",
              "        (() => {\n",
              "          let quickchartButtonEl =\n",
              "            document.querySelector('#df-e4b5a9c7-7c3d-4373-bbc2-2927f49c94a3 button');\n",
              "          quickchartButtonEl.style.display =\n",
              "            google.colab.kernel.accessAllowed ? 'block' : 'none';\n",
              "        })();\n",
              "      </script>\n",
              "    </div>\n",
              "\n",
              "    </div>\n",
              "  </div>\n"
            ],
            "application/vnd.google.colaboratory.intrinsic+json": {
              "type": "dataframe",
              "variable_name": "pub_details",
              "summary": "{\n  \"name\": \"pub_details\",\n  \"rows\": 116,\n  \"fields\": [\n    {\n      \"column\": \"title\",\n      \"properties\": {\n        \"dtype\": \"string\",\n        \"num_unique_values\": 111,\n        \"samples\": [\n          \"\\u2026 sensing estimation of spatial and temporal variability of actual evapotranspiration using SEBs Algorithm in the semi-arid Barotse Sub-Basin, South-Western Zambia\",\n          \"Design and Implementation of an Orthanc Plugin for Semi-Automatic Interpretation of Medical Images\",\n          \"Implementation of the Sustainable Development Goals (SDGs) Through Education for\"\n        ],\n        \"semantic_type\": \"\",\n        \"description\": \"\"\n      }\n    },\n    {\n      \"column\": \"authors\",\n      \"properties\": {\n        \"dtype\": \"string\",\n        \"num_unique_values\": 98,\n        \"samples\": [\n          \"SM Ndhlovu\",\n          \"AH Phiri\",\n          \"Z Lusaka\"\n        ],\n        \"semantic_type\": \"\",\n        \"description\": \"\"\n      }\n    },\n    {\n      \"column\": \"year\",\n      \"properties\": {\n        \"dtype\": \"number\",\n        \"std\": 5.105607220097389,\n        \"min\": 2000.0,\n        \"max\": 2025.0,\n        \"num_unique_values\": 18,\n        \"samples\": [\n          2023.0,\n          2021.0,\n          2008.0\n        ],\n        \"semantic_type\": \"\",\n        \"description\": \"\"\n      }\n    },\n    {\n      \"column\": \"venue\",\n      \"properties\": {\n        \"dtype\": \"category\",\n        \"num_unique_values\": 53,\n        \"samples\": [\n          \"Proceedings of the Computational Methods in \\u2026\",\n          \"IOSR Journal of Computer \\u2026\",\n          \"Education Research \\u2026\"\n        ],\n        \"semantic_type\": \"\",\n        \"description\": \"\"\n      }\n    },\n    {\n      \"column\": \"abstract\",\n      \"properties\": {\n        \"dtype\": \"string\",\n        \"num_unique_values\": 111,\n        \"samples\": [\n          \"and daughters, Pelekelo and Monde Kalumbilo for the love and care. I would also like to  thank Mr. Kabemba and Mrs. Monica Monde Kalumbilo Kabemba for the encouragement and\",\n          \"or otherwise without the prior written permission of the author or the University of Zambia.   Furthermore, I would like to extend my gratitude to my supervisors Mr Claytone Sikasote and Dr\",\n          \"of entrepreneurial universities in the world, Africa and Zambia, including the Mulungushi  University. The recommendations of this paper include: the universities in Zambia should offer\"\n        ],\n        \"semantic_type\": \"\",\n        \"description\": \"\"\n      }\n    },\n    {\n      \"column\": \"num_citations\",\n      \"properties\": {\n        \"dtype\": \"number\",\n        \"std\": 26,\n        \"min\": 0,\n        \"max\": 229,\n        \"num_unique_values\": 19,\n        \"samples\": [\n          5,\n          229,\n          73\n        ],\n        \"semantic_type\": \"\",\n        \"description\": \"\"\n      }\n    },\n    {\n      \"column\": \"url_scholarbib\",\n      \"properties\": {\n        \"dtype\": \"string\",\n        \"num_unique_values\": 111,\n        \"samples\": [\n          \"https://dspace.unza.zm/handle/123456789/3135\",\n          \"https://datalab.unza.zm/sites/default/files/2024-06/etds-datalab24-pdip-dissertation-andrew_shawa.pdf\",\n          \"https://www.zapuc.edu.zm/docs/2018_ZAPUC_Conference_Proceedings.pdf#page=8\"\n        ],\n        \"semantic_type\": \"\",\n        \"description\": \"\"\n      }\n    }\n  ]\n}"
            }
          },
          "metadata": {},
          "execution_count": 20
        }
      ]
    },
    {
      "cell_type": "code",
      "source": [
        "pub_details.info()"
      ],
      "metadata": {
        "colab": {
          "base_uri": "https://localhost:8080/"
        },
        "id": "nXzlJzRbmG1l",
        "outputId": "51c52798-aac8-4d70-84d7-2e166827dc51"
      },
      "execution_count": null,
      "outputs": [
        {
          "output_type": "stream",
          "name": "stdout",
          "text": [
            "<class 'pandas.core.frame.DataFrame'>\n",
            "RangeIndex: 116 entries, 0 to 115\n",
            "Data columns (total 7 columns):\n",
            " #   Column          Non-Null Count  Dtype  \n",
            "---  ------          --------------  -----  \n",
            " 0   title           116 non-null    object \n",
            " 1   authors         116 non-null    object \n",
            " 2   year            97 non-null     float64\n",
            " 3   venue           80 non-null     object \n",
            " 4   abstract        116 non-null    object \n",
            " 5   num_citations   116 non-null    int64  \n",
            " 6   url_scholarbib  116 non-null    object \n",
            "dtypes: float64(1), int64(1), object(5)\n",
            "memory usage: 6.5+ KB\n"
          ]
        }
      ]
    },
    {
      "cell_type": "code",
      "source": [
        "pub_details.describe()"
      ],
      "metadata": {
        "colab": {
          "base_uri": "https://localhost:8080/",
          "height": 300
        },
        "id": "BRmx8aLimTW2",
        "outputId": "4df7764f-aa33-4581-d127-8de9efcbda20"
      },
      "execution_count": null,
      "outputs": [
        {
          "output_type": "execute_result",
          "data": {
            "text/plain": [
              "              year  num_citations\n",
              "count    97.000000     116.000000\n",
              "mean   2020.216495       7.025862\n",
              "std       5.105607      26.317943\n",
              "min    2000.000000       0.000000\n",
              "25%    2019.000000       0.000000\n",
              "50%    2022.000000       1.000000\n",
              "75%    2023.000000       4.000000\n",
              "max    2025.000000     229.000000"
            ],
            "text/html": [
              "\n",
              "  <div id=\"df-0cd7e5d9-de16-400b-8961-d4c3412cb55a\" class=\"colab-df-container\">\n",
              "    <div>\n",
              "<style scoped>\n",
              "    .dataframe tbody tr th:only-of-type {\n",
              "        vertical-align: middle;\n",
              "    }\n",
              "\n",
              "    .dataframe tbody tr th {\n",
              "        vertical-align: top;\n",
              "    }\n",
              "\n",
              "    .dataframe thead th {\n",
              "        text-align: right;\n",
              "    }\n",
              "</style>\n",
              "<table border=\"1\" class=\"dataframe\">\n",
              "  <thead>\n",
              "    <tr style=\"text-align: right;\">\n",
              "      <th></th>\n",
              "      <th>year</th>\n",
              "      <th>num_citations</th>\n",
              "    </tr>\n",
              "  </thead>\n",
              "  <tbody>\n",
              "    <tr>\n",
              "      <th>count</th>\n",
              "      <td>97.000000</td>\n",
              "      <td>116.000000</td>\n",
              "    </tr>\n",
              "    <tr>\n",
              "      <th>mean</th>\n",
              "      <td>2020.216495</td>\n",
              "      <td>7.025862</td>\n",
              "    </tr>\n",
              "    <tr>\n",
              "      <th>std</th>\n",
              "      <td>5.105607</td>\n",
              "      <td>26.317943</td>\n",
              "    </tr>\n",
              "    <tr>\n",
              "      <th>min</th>\n",
              "      <td>2000.000000</td>\n",
              "      <td>0.000000</td>\n",
              "    </tr>\n",
              "    <tr>\n",
              "      <th>25%</th>\n",
              "      <td>2019.000000</td>\n",
              "      <td>0.000000</td>\n",
              "    </tr>\n",
              "    <tr>\n",
              "      <th>50%</th>\n",
              "      <td>2022.000000</td>\n",
              "      <td>1.000000</td>\n",
              "    </tr>\n",
              "    <tr>\n",
              "      <th>75%</th>\n",
              "      <td>2023.000000</td>\n",
              "      <td>4.000000</td>\n",
              "    </tr>\n",
              "    <tr>\n",
              "      <th>max</th>\n",
              "      <td>2025.000000</td>\n",
              "      <td>229.000000</td>\n",
              "    </tr>\n",
              "  </tbody>\n",
              "</table>\n",
              "</div>\n",
              "    <div class=\"colab-df-buttons\">\n",
              "\n",
              "  <div class=\"colab-df-container\">\n",
              "    <button class=\"colab-df-convert\" onclick=\"convertToInteractive('df-0cd7e5d9-de16-400b-8961-d4c3412cb55a')\"\n",
              "            title=\"Convert this dataframe to an interactive table.\"\n",
              "            style=\"display:none;\">\n",
              "\n",
              "  <svg xmlns=\"http://www.w3.org/2000/svg\" height=\"24px\" viewBox=\"0 -960 960 960\">\n",
              "    <path d=\"M120-120v-720h720v720H120Zm60-500h600v-160H180v160Zm220 220h160v-160H400v160Zm0 220h160v-160H400v160ZM180-400h160v-160H180v160Zm440 0h160v-160H620v160ZM180-180h160v-160H180v160Zm440 0h160v-160H620v160Z\"/>\n",
              "  </svg>\n",
              "    </button>\n",
              "\n",
              "  <style>\n",
              "    .colab-df-container {\n",
              "      display:flex;\n",
              "      gap: 12px;\n",
              "    }\n",
              "\n",
              "    .colab-df-convert {\n",
              "      background-color: #E8F0FE;\n",
              "      border: none;\n",
              "      border-radius: 50%;\n",
              "      cursor: pointer;\n",
              "      display: none;\n",
              "      fill: #1967D2;\n",
              "      height: 32px;\n",
              "      padding: 0 0 0 0;\n",
              "      width: 32px;\n",
              "    }\n",
              "\n",
              "    .colab-df-convert:hover {\n",
              "      background-color: #E2EBFA;\n",
              "      box-shadow: 0px 1px 2px rgba(60, 64, 67, 0.3), 0px 1px 3px 1px rgba(60, 64, 67, 0.15);\n",
              "      fill: #174EA6;\n",
              "    }\n",
              "\n",
              "    .colab-df-buttons div {\n",
              "      margin-bottom: 4px;\n",
              "    }\n",
              "\n",
              "    [theme=dark] .colab-df-convert {\n",
              "      background-color: #3B4455;\n",
              "      fill: #D2E3FC;\n",
              "    }\n",
              "\n",
              "    [theme=dark] .colab-df-convert:hover {\n",
              "      background-color: #434B5C;\n",
              "      box-shadow: 0px 1px 3px 1px rgba(0, 0, 0, 0.15);\n",
              "      filter: drop-shadow(0px 1px 2px rgba(0, 0, 0, 0.3));\n",
              "      fill: #FFFFFF;\n",
              "    }\n",
              "  </style>\n",
              "\n",
              "    <script>\n",
              "      const buttonEl =\n",
              "        document.querySelector('#df-0cd7e5d9-de16-400b-8961-d4c3412cb55a button.colab-df-convert');\n",
              "      buttonEl.style.display =\n",
              "        google.colab.kernel.accessAllowed ? 'block' : 'none';\n",
              "\n",
              "      async function convertToInteractive(key) {\n",
              "        const element = document.querySelector('#df-0cd7e5d9-de16-400b-8961-d4c3412cb55a');\n",
              "        const dataTable =\n",
              "          await google.colab.kernel.invokeFunction('convertToInteractive',\n",
              "                                                    [key], {});\n",
              "        if (!dataTable) return;\n",
              "\n",
              "        const docLinkHtml = 'Like what you see? Visit the ' +\n",
              "          '<a target=\"_blank\" href=https://colab.research.google.com/notebooks/data_table.ipynb>data table notebook</a>'\n",
              "          + ' to learn more about interactive tables.';\n",
              "        element.innerHTML = '';\n",
              "        dataTable['output_type'] = 'display_data';\n",
              "        await google.colab.output.renderOutput(dataTable, element);\n",
              "        const docLink = document.createElement('div');\n",
              "        docLink.innerHTML = docLinkHtml;\n",
              "        element.appendChild(docLink);\n",
              "      }\n",
              "    </script>\n",
              "  </div>\n",
              "\n",
              "\n",
              "    <div id=\"df-a7446bfd-1e0e-4956-9d3d-889d0bc8e126\">\n",
              "      <button class=\"colab-df-quickchart\" onclick=\"quickchart('df-a7446bfd-1e0e-4956-9d3d-889d0bc8e126')\"\n",
              "                title=\"Suggest charts\"\n",
              "                style=\"display:none;\">\n",
              "\n",
              "<svg xmlns=\"http://www.w3.org/2000/svg\" height=\"24px\"viewBox=\"0 0 24 24\"\n",
              "     width=\"24px\">\n",
              "    <g>\n",
              "        <path d=\"M19 3H5c-1.1 0-2 .9-2 2v14c0 1.1.9 2 2 2h14c1.1 0 2-.9 2-2V5c0-1.1-.9-2-2-2zM9 17H7v-7h2v7zm4 0h-2V7h2v10zm4 0h-2v-4h2v4z\"/>\n",
              "    </g>\n",
              "</svg>\n",
              "      </button>\n",
              "\n",
              "<style>\n",
              "  .colab-df-quickchart {\n",
              "      --bg-color: #E8F0FE;\n",
              "      --fill-color: #1967D2;\n",
              "      --hover-bg-color: #E2EBFA;\n",
              "      --hover-fill-color: #174EA6;\n",
              "      --disabled-fill-color: #AAA;\n",
              "      --disabled-bg-color: #DDD;\n",
              "  }\n",
              "\n",
              "  [theme=dark] .colab-df-quickchart {\n",
              "      --bg-color: #3B4455;\n",
              "      --fill-color: #D2E3FC;\n",
              "      --hover-bg-color: #434B5C;\n",
              "      --hover-fill-color: #FFFFFF;\n",
              "      --disabled-bg-color: #3B4455;\n",
              "      --disabled-fill-color: #666;\n",
              "  }\n",
              "\n",
              "  .colab-df-quickchart {\n",
              "    background-color: var(--bg-color);\n",
              "    border: none;\n",
              "    border-radius: 50%;\n",
              "    cursor: pointer;\n",
              "    display: none;\n",
              "    fill: var(--fill-color);\n",
              "    height: 32px;\n",
              "    padding: 0;\n",
              "    width: 32px;\n",
              "  }\n",
              "\n",
              "  .colab-df-quickchart:hover {\n",
              "    background-color: var(--hover-bg-color);\n",
              "    box-shadow: 0 1px 2px rgba(60, 64, 67, 0.3), 0 1px 3px 1px rgba(60, 64, 67, 0.15);\n",
              "    fill: var(--button-hover-fill-color);\n",
              "  }\n",
              "\n",
              "  .colab-df-quickchart-complete:disabled,\n",
              "  .colab-df-quickchart-complete:disabled:hover {\n",
              "    background-color: var(--disabled-bg-color);\n",
              "    fill: var(--disabled-fill-color);\n",
              "    box-shadow: none;\n",
              "  }\n",
              "\n",
              "  .colab-df-spinner {\n",
              "    border: 2px solid var(--fill-color);\n",
              "    border-color: transparent;\n",
              "    border-bottom-color: var(--fill-color);\n",
              "    animation:\n",
              "      spin 1s steps(1) infinite;\n",
              "  }\n",
              "\n",
              "  @keyframes spin {\n",
              "    0% {\n",
              "      border-color: transparent;\n",
              "      border-bottom-color: var(--fill-color);\n",
              "      border-left-color: var(--fill-color);\n",
              "    }\n",
              "    20% {\n",
              "      border-color: transparent;\n",
              "      border-left-color: var(--fill-color);\n",
              "      border-top-color: var(--fill-color);\n",
              "    }\n",
              "    30% {\n",
              "      border-color: transparent;\n",
              "      border-left-color: var(--fill-color);\n",
              "      border-top-color: var(--fill-color);\n",
              "      border-right-color: var(--fill-color);\n",
              "    }\n",
              "    40% {\n",
              "      border-color: transparent;\n",
              "      border-right-color: var(--fill-color);\n",
              "      border-top-color: var(--fill-color);\n",
              "    }\n",
              "    60% {\n",
              "      border-color: transparent;\n",
              "      border-right-color: var(--fill-color);\n",
              "    }\n",
              "    80% {\n",
              "      border-color: transparent;\n",
              "      border-right-color: var(--fill-color);\n",
              "      border-bottom-color: var(--fill-color);\n",
              "    }\n",
              "    90% {\n",
              "      border-color: transparent;\n",
              "      border-bottom-color: var(--fill-color);\n",
              "    }\n",
              "  }\n",
              "</style>\n",
              "\n",
              "      <script>\n",
              "        async function quickchart(key) {\n",
              "          const quickchartButtonEl =\n",
              "            document.querySelector('#' + key + ' button');\n",
              "          quickchartButtonEl.disabled = true;  // To prevent multiple clicks.\n",
              "          quickchartButtonEl.classList.add('colab-df-spinner');\n",
              "          try {\n",
              "            const charts = await google.colab.kernel.invokeFunction(\n",
              "                'suggestCharts', [key], {});\n",
              "          } catch (error) {\n",
              "            console.error('Error during call to suggestCharts:', error);\n",
              "          }\n",
              "          quickchartButtonEl.classList.remove('colab-df-spinner');\n",
              "          quickchartButtonEl.classList.add('colab-df-quickchart-complete');\n",
              "        }\n",
              "        (() => {\n",
              "          let quickchartButtonEl =\n",
              "            document.querySelector('#df-a7446bfd-1e0e-4956-9d3d-889d0bc8e126 button');\n",
              "          quickchartButtonEl.style.display =\n",
              "            google.colab.kernel.accessAllowed ? 'block' : 'none';\n",
              "        })();\n",
              "      </script>\n",
              "    </div>\n",
              "\n",
              "    </div>\n",
              "  </div>\n"
            ],
            "application/vnd.google.colaboratory.intrinsic+json": {
              "type": "dataframe",
              "summary": "{\n  \"name\": \"pub_details\",\n  \"rows\": 8,\n  \"fields\": [\n    {\n      \"column\": \"year\",\n      \"properties\": {\n        \"dtype\": \"number\",\n        \"std\": 910.9775219291572,\n        \"min\": 5.105607220097389,\n        \"max\": 2025.0,\n        \"num_unique_values\": 8,\n        \"samples\": [\n          2020.2164948453608,\n          2022.0,\n          97.0\n        ],\n        \"semantic_type\": \"\",\n        \"description\": \"\"\n      }\n    },\n    {\n      \"column\": \"num_citations\",\n      \"properties\": {\n        \"dtype\": \"number\",\n        \"std\": 83.05500566659005,\n        \"min\": 0.0,\n        \"max\": 229.0,\n        \"num_unique_values\": 7,\n        \"samples\": [\n          116.0,\n          7.025862068965517,\n          4.0\n        ],\n        \"semantic_type\": \"\",\n        \"description\": \"\"\n      }\n    }\n  ]\n}"
            }
          },
          "metadata": {},
          "execution_count": 22
        }
      ]
    },
    {
      "cell_type": "code",
      "source": [
        "pub_details.shape"
      ],
      "metadata": {
        "colab": {
          "base_uri": "https://localhost:8080/"
        },
        "id": "9jRVqF0fnEWr",
        "outputId": "8e97e047-ddad-4b0a-d0b4-18735ef1c62e"
      },
      "execution_count": null,
      "outputs": [
        {
          "output_type": "execute_result",
          "data": {
            "text/plain": [
              "(116, 7)"
            ]
          },
          "metadata": {},
          "execution_count": 23
        }
      ]
    },
    {
      "cell_type": "code",
      "source": [
        "pub_details.columns"
      ],
      "metadata": {
        "id": "GLWNE_SgoXpk",
        "colab": {
          "base_uri": "https://localhost:8080/"
        },
        "outputId": "6d200751-52c9-4387-a3b4-d901f5f2f08b"
      },
      "execution_count": null,
      "outputs": [
        {
          "output_type": "execute_result",
          "data": {
            "text/plain": [
              "Index(['title', 'authors', 'year', 'venue', 'abstract', 'num_citations',\n",
              "       'url_scholarbib'],\n",
              "      dtype='object')"
            ]
          },
          "metadata": {},
          "execution_count": 24
        }
      ]
    },
    {
      "cell_type": "code",
      "source": [
        "pub_details.dtypes"
      ],
      "metadata": {
        "colab": {
          "base_uri": "https://localhost:8080/",
          "height": 303
        },
        "id": "JZ9htIqyotrN",
        "outputId": "db04109c-1335-4eed-ad44-c7811828701e"
      },
      "execution_count": null,
      "outputs": [
        {
          "output_type": "execute_result",
          "data": {
            "text/plain": [
              "title              object\n",
              "authors            object\n",
              "year              float64\n",
              "venue              object\n",
              "abstract           object\n",
              "num_citations       int64\n",
              "url_scholarbib     object\n",
              "dtype: object"
            ],
            "text/html": [
              "<div>\n",
              "<style scoped>\n",
              "    .dataframe tbody tr th:only-of-type {\n",
              "        vertical-align: middle;\n",
              "    }\n",
              "\n",
              "    .dataframe tbody tr th {\n",
              "        vertical-align: top;\n",
              "    }\n",
              "\n",
              "    .dataframe thead th {\n",
              "        text-align: right;\n",
              "    }\n",
              "</style>\n",
              "<table border=\"1\" class=\"dataframe\">\n",
              "  <thead>\n",
              "    <tr style=\"text-align: right;\">\n",
              "      <th></th>\n",
              "      <th>0</th>\n",
              "    </tr>\n",
              "  </thead>\n",
              "  <tbody>\n",
              "    <tr>\n",
              "      <th>title</th>\n",
              "      <td>object</td>\n",
              "    </tr>\n",
              "    <tr>\n",
              "      <th>authors</th>\n",
              "      <td>object</td>\n",
              "    </tr>\n",
              "    <tr>\n",
              "      <th>year</th>\n",
              "      <td>float64</td>\n",
              "    </tr>\n",
              "    <tr>\n",
              "      <th>venue</th>\n",
              "      <td>object</td>\n",
              "    </tr>\n",
              "    <tr>\n",
              "      <th>abstract</th>\n",
              "      <td>object</td>\n",
              "    </tr>\n",
              "    <tr>\n",
              "      <th>num_citations</th>\n",
              "      <td>int64</td>\n",
              "    </tr>\n",
              "    <tr>\n",
              "      <th>url_scholarbib</th>\n",
              "      <td>object</td>\n",
              "    </tr>\n",
              "  </tbody>\n",
              "</table>\n",
              "</div><br><label><b>dtype:</b> object</label>"
            ]
          },
          "metadata": {},
          "execution_count": 25
        }
      ]
    },
    {
      "cell_type": "code",
      "source": [
        "pub_details.duplicated().sum()"
      ],
      "metadata": {
        "id": "tQp86rNopBrw",
        "colab": {
          "base_uri": "https://localhost:8080/"
        },
        "outputId": "30ffcdf2-bcf2-47d1-a51d-7034100b63fc"
      },
      "execution_count": null,
      "outputs": [
        {
          "output_type": "execute_result",
          "data": {
            "text/plain": [
              "np.int64(2)"
            ]
          },
          "metadata": {},
          "execution_count": 8
        }
      ]
    },
    {
      "cell_type": "code",
      "source": [
        "pub_details['year'].unique()        # Distinct years\n",
        "pub_details['venue'].value_counts() # Top publication venues\n",
        "pub_details['authors'].str.split(',').explode().value_counts() # Author frequency"
      ],
      "metadata": {
        "id": "Gc6odelYpfai",
        "colab": {
          "base_uri": "https://localhost:8080/",
          "height": 489
        },
        "outputId": "b19d60da-ece5-4d6b-c8f0-850ecdbb6ccb"
      },
      "execution_count": null,
      "outputs": [
        {
          "output_type": "execute_result",
          "data": {
            "text/plain": [
              "authors\n",
              " J Phiri        46\n",
              " M Nyirenda     25\n",
              "                10\n",
              " C Sikasote      5\n",
              "J Phiri          5\n",
              "                ..\n",
              " B Namangala     1\n",
              "R Silhavy        1\n",
              " P Silhavy       1\n",
              "R Tshibangu      1\n",
              " N Thembane      1\n",
              "Name: count, Length: 152, dtype: int64"
            ],
            "text/html": [
              "<div>\n",
              "<style scoped>\n",
              "    .dataframe tbody tr th:only-of-type {\n",
              "        vertical-align: middle;\n",
              "    }\n",
              "\n",
              "    .dataframe tbody tr th {\n",
              "        vertical-align: top;\n",
              "    }\n",
              "\n",
              "    .dataframe thead th {\n",
              "        text-align: right;\n",
              "    }\n",
              "</style>\n",
              "<table border=\"1\" class=\"dataframe\">\n",
              "  <thead>\n",
              "    <tr style=\"text-align: right;\">\n",
              "      <th></th>\n",
              "      <th>count</th>\n",
              "    </tr>\n",
              "    <tr>\n",
              "      <th>authors</th>\n",
              "      <th></th>\n",
              "    </tr>\n",
              "  </thead>\n",
              "  <tbody>\n",
              "    <tr>\n",
              "      <th>J Phiri</th>\n",
              "      <td>46</td>\n",
              "    </tr>\n",
              "    <tr>\n",
              "      <th>M Nyirenda</th>\n",
              "      <td>25</td>\n",
              "    </tr>\n",
              "    <tr>\n",
              "      <th></th>\n",
              "      <td>10</td>\n",
              "    </tr>\n",
              "    <tr>\n",
              "      <th>C Sikasote</th>\n",
              "      <td>5</td>\n",
              "    </tr>\n",
              "    <tr>\n",
              "      <th>J Phiri</th>\n",
              "      <td>5</td>\n",
              "    </tr>\n",
              "    <tr>\n",
              "      <th>...</th>\n",
              "      <td>...</td>\n",
              "    </tr>\n",
              "    <tr>\n",
              "      <th>B Namangala</th>\n",
              "      <td>1</td>\n",
              "    </tr>\n",
              "    <tr>\n",
              "      <th>R Silhavy</th>\n",
              "      <td>1</td>\n",
              "    </tr>\n",
              "    <tr>\n",
              "      <th>P Silhavy</th>\n",
              "      <td>1</td>\n",
              "    </tr>\n",
              "    <tr>\n",
              "      <th>R Tshibangu</th>\n",
              "      <td>1</td>\n",
              "    </tr>\n",
              "    <tr>\n",
              "      <th>N Thembane</th>\n",
              "      <td>1</td>\n",
              "    </tr>\n",
              "  </tbody>\n",
              "</table>\n",
              "<p>152 rows × 1 columns</p>\n",
              "</div><br><label><b>dtype:</b> int64</label>"
            ]
          },
          "metadata": {},
          "execution_count": 28
        }
      ]
    },
    {
      "cell_type": "code",
      "source": [
        "import matplotlib.pyplot as plt\n",
        "import seaborn as sns"
      ],
      "metadata": {
        "id": "J_Qon1Tsqk17"
      },
      "execution_count": null,
      "outputs": []
    },
    {
      "cell_type": "code",
      "source": [
        "# Group by year\n",
        "pubs_per_year = pub_details.groupby(\"year\").size().reset_index(name=\"num_publications\")\n",
        "\n",
        "# Plot\n",
        "plt.figure(figsize=(10,6))\n",
        "sns.lineplot(data=pubs_per_year, x=\"year\", y=\"num_publications\", marker='o')\n",
        "plt.title(\"Publications Over Time\")\n",
        "plt.xlabel(\"Year\")\n",
        "plt.ylabel(\"Number of Publications\")\n",
        "plt.xticks(rotation=45)\n",
        "plt.tight_layout()\n",
        "plt.show()"
      ],
      "metadata": {
        "colab": {
          "base_uri": "https://localhost:8080/",
          "height": 416
        },
        "id": "2sSpLDFTuKla",
        "outputId": "e4ee7028-4812-4281-8543-6713f4c1e62d"
      },
      "execution_count": null,
      "outputs": [
        {
          "output_type": "display_data",
          "data": {
            "text/plain": [
              "<Figure size 1000x600 with 1 Axes>"
            ],
            "image/png": "[encoded data removed]"
          },
          "metadata": {}
        }
      ]
    },
    {
      "cell_type": "code",
      "source": [
        "from collections import Counter"
      ],
      "metadata": {
        "id": "B1WY5cq6udOO"
      },
      "execution_count": null,
      "outputs": []
    },
    {
      "cell_type": "code",
      "source": [
        "# Split authors\n",
        "authors_list = pub_details['authors'].dropna().str.split(',').sum()\n",
        "author_counts = Counter(authors_list)\n",
        "top_authors = pd.DataFrame(author_counts.most_common(10), columns=['author','num_publications'])\n",
        "\n",
        "# Plot\n",
        "plt.figure(figsize=(10,6))\n",
        "sns.barplot(data=top_authors, x='num_publications', y='author', palette='viridis')\n",
        "plt.title(\"Top Authors by Number of Publications\")\n",
        "plt.xlabel(\"Number of Publications\")\n",
        "plt.ylabel(\"Author\")\n",
        "plt.tight_layout()\n",
        "plt.show()\n"
      ],
      "metadata": {
        "colab": {
          "base_uri": "https://localhost:8080/",
          "height": 671
        },
        "id": "V60mPLZKu4pT",
        "outputId": "c8714916-d711-4eb3-d86a-115e5d809bb3"
      },
      "execution_count": null,
      "outputs": [
        {
          "output_type": "stream",
          "name": "stderr",
          "text": [
            "/tmp/ipython-input-3066780015.py:8: FutureWarning: \n",
            "\n",
            "Passing `palette` without assigning `hue` is deprecated and will be removed in v0.14.0. Assign the `y` variable to `hue` and set `legend=False` for the same effect.\n",
            "\n",
            "  sns.barplot(data=top_authors, x='num_publications', y='author', palette='viridis')\n"
          ]
        },
        {
          "output_type": "display_data",
          "data": {
            "text/plain": [
              "<Figure size 1000x600 with 1 Axes>"
            ],
            "image/png": "[encoded data removed]"
          },
          "metadata": {}
        }
      ]
    },
    {
      "cell_type": "code",
      "source": [
        "# Aggregate citations per author\n",
        "df_authors_citations = pub_details.dropna(subset=['authors', 'num_citations'])\n",
        "df_authors_citations['num_citations'] = df_authors_citations['num_citations'].astype(int)\n",
        "\n",
        "author_cit_list = []\n",
        "for i, row in df_authors_citations.iterrows():\n",
        "    authors = row['authors'].split(',')\n",
        "    for author in authors:\n",
        "        author_cit_list.append((author.strip(), row['num_citations']))\n",
        "\n",
        "author_cit_df = pd.DataFrame(author_cit_list, columns=['author', 'num_citations'])\n",
        "top_cited_authors = author_cit_df.groupby('author')['num_citations'].sum().sort_values(ascending=False).head(10).reset_index()\n",
        "\n",
        "# Plot\n",
        "plt.figure(figsize=(10,6))\n",
        "sns.barplot(data=top_cited_authors, x='num_citations', y='author', palette='magma')\n",
        "plt.title(\"Top Authors by Citations\")\n",
        "plt.xlabel(\"Total Citations\")\n",
        "plt.ylabel(\"Author\")\n",
        "plt.tight_layout()\n",
        "plt.show()\n"
      ],
      "metadata": {
        "id": "pLgYVXGIvGEw",
        "colab": {
          "base_uri": "https://localhost:8080/",
          "height": 685
        },
        "outputId": "59fa936b-559f-4325-d98f-8705ad9fd330"
      },
      "execution_count": null,
      "outputs": [
        {
          "output_type": "stream",
          "name": "stderr",
          "text": [
            "/tmp/ipython-input-862378641.py:16: FutureWarning: \n",
            "\n",
            "Passing `palette` without assigning `hue` is deprecated and will be removed in v0.14.0. Assign the `y` variable to `hue` and set `legend=False` for the same effect.\n",
            "\n",
            "  sns.barplot(data=top_cited_authors, x='num_citations', y='author', palette='magma')\n"
          ]
        },
        {
          "output_type": "display_data",
          "data": {
            "text/plain": [
              "<Figure size 1000x600 with 1 Axes>"
            ],
            "image/png": "[encoded data removed]"
          },
          "metadata": {}
        }
      ]
    },
    {
      "cell_type": "code",
      "source": [],
      "metadata": {
        "id": "k3BYML_IwTmQ"
      },
      "execution_count": null,
      "outputs": []
    },
    {
      "cell_type": "markdown",
      "source": [
        "**Written Summary of Findings **\n",
        "\n",
        "The dataset on UNZA faculty publications contains records of 116 publications with the\n",
        "following columns: title, authors, year, venue, abstract, num_citations, and url_scholarbib.\n",
        "The data types are mostly strings (object) with year and num_citations stored as numeric\n",
        "values. From the info() check, we see that some entries have missing values in year and\n",
        "venue, while others contain empty author fields. A shape check confirms that there are 116\n",
        "rows and 7 columns, and a duplicate check shows that there are no exact duplicate rows.\n",
        "Descriptive statistics reveal that the number of citations per paper ranges from 0 to 229, with\n",
        "an average of about 7 citations, though the distribution is highly skewed—most papers have\n",
        "fewer than 5 citations.\n",
        "\n",
        "Looking at publication trends over time, the dataset spans from 2000 to 2025, but research\n",
        "activity was minimal before 2015, with only one or two papers published in some years. The\n",
        "trend changed significantly after 2016, showing steady growth. The most productive years\n",
        "were 2023 with 21 publications and 2024 with 19 publications, marking the peak of\n",
        "research activity in the dataset. This indicates that faculty research output has grown\n",
        "substantially in the last decade, suggesting stronger academic engagement and improved\n",
        "research culture.\n",
        "\n",
        "When analyzing author productivity, a small group of researchers contributes the majority of\n",
        "publications. J Phiri leads with 51 publications, followed by M Nyirenda with 25, and then\n",
        "C Sikasote with 8 and L Mzyece with 7. This demonstrates that research output is\n",
        "concentrated among a few prolific authors, highlighting strong individual leadership in\n",
        "research but also suggesting that overall faculty contributions may be unevenly distributed.\n",
        "\n",
        "In terms of research impact measured by citations, C Sikasote emerges as the most\n",
        "influential author with 285 citations, despite having fewer publications than J Phiri.\n",
        "International collaborators such as A Sokolov and N Subramani also stand out, each with\n",
        "229 citations, while BGJ Knols contributes significantly with 134 citations. This shows that\n",
        "collaborative and high-quality research is yielding greater academic visibility, and that\n",
        "impact is not strictly tied to the number of papers produced but also to their relevance and\n",
        "recognition within the academic community."
      ],
      "metadata": {
        "id": "EIOGy00IrzCd"
      }
    }
  ]
}